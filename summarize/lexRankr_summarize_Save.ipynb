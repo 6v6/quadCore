{
 "cells": [
  {
   "cell_type": "code",
   "execution_count": 6,
   "metadata": {},
   "outputs": [
    {
     "name": "stderr",
     "output_type": "stream",
     "text": [
      "C:\\ProgramData\\Anaconda3\\lib\\site-packages\\konlpy\\tag\\_okt.py:16: UserWarning: \"Twitter\" has changed to \"Okt\" since KoNLPy v0.4.5.\n",
      "  warn('\"Twitter\" has changed to \"Okt\" since KoNLPy v0.4.5.')\n"
     ]
    },
    {
     "name": "stdout",
     "output_type": "stream",
     "text": [
      "Database version : 8.0.15 \n",
      "테이블 이름 입력 : news\n"
     ]
    },
    {
     "name": "stderr",
     "output_type": "stream",
     "text": [
      "C:\\ProgramData\\Anaconda3\\lib\\site-packages\\pymysql\\cursors.py:170: Warning: (3719, \"'utf8' is currently an alias for the character set UTF8MB3, but will be an alias for UTF8MB4 in a future release. Please consider using UTF8MB4 in order to be unambiguous.\")\n",
      "  result = self._query(query)\n"
     ]
    },
    {
     "name": "stdout",
     "output_type": "stream",
     "text": [
      "documents완료\n",
      "요약 완료\n"
     ]
    }
   ],
   "source": [
    "from lexrankr import LexRank\n",
    "import os\n",
    "#import csv#csv\n",
    "import pymysql#db\n",
    "\n",
    "\n",
    "lexrank = LexRank()\n",
    "\n",
    "##db\n",
    "db = pymysql.connect(host='###', user='###', password='###' ,db='###', charset='utf8')\n",
    "# prepare a cursor object using cursor() method\n",
    "\n",
    "\n",
    "cursor = db.cursor()\n",
    "\n",
    "# execute SQL query using execute() method.\n",
    "\n",
    "cursor.execute(\"SELECT VERSION()\")\n",
    "# Fetch a single row using fetchone() method.\n",
    "\n",
    "data = cursor.fetchone()\n",
    "\n",
    "#db연결확인\n",
    "print(\"Database version : %s \" % data)\n",
    "\n",
    "#csv형식의 뉴스 테이블(culture) 읽기, 읽은 후 documents 리스트에 기사 본문 저장\n",
    "documents=[]\n",
    "title=[]\n",
    "news_id=[]\n",
    "\n",
    "tabel_name = input(\"테이블 이름 입력 : \")\n",
    "\n",
    "def make_docu(tabel_name):\n",
    "    try:\n",
    "        with db.cursor() as cursor:\n",
    "            sql = \"select * from %s where category = '정치'\"%(tabel_name)\n",
    "            cursor.execute(\"set names utf8\")\n",
    "            cursor.execute(sql)\n",
    "            result = cursor.fetchall()\n",
    "            for i in result:\n",
    "                news_id.append(i[0])\n",
    "                title.append(i[1])\n",
    "                documents.append(i[2])\n",
    "    finally:\n",
    "        print(\"documents완료\")\n",
    "\n",
    "news_num=[]\n",
    "#오픈한 csv파일 한 라인씩 읽어 테스트\n",
    "def make_news():\n",
    "    for i in documents:\n",
    "        try:\n",
    "            #print(i[1])#기사 잘 나오는지 확인\n",
    "            lexrank.summarize(i)\n",
    "            summaries = lexrank.probe(3)  #  (값이 '>1' 시)  문장갯수 (값이 '<1' 시) 요약비율 \n",
    "            #summaries2 = lexrank.probe(.1)\n",
    "            news_num.append(summaries)             \n",
    "        except:\n",
    "            #pass\n",
    "            news_num.append(i) \n",
    "              \n",
    "#컬럼 추가\n",
    "#cursor.execute(\"ALTER TABLE culture ADD sum TEXT NOT NULL\")\n",
    "\n",
    "def save_summ(table_name):\n",
    "        try:\n",
    "            with db.cursor() as cursor:\n",
    "                for data in range(len(news_num)):\n",
    "                    #기사에 맞게 태그 집어넣기 (리스트와 sql id 비교)\n",
    "                    try:\n",
    "                        sql= \"update %s set summarize='%s'where news_id= '%d'\" % (table_name,news_num[data][0],news_id[data])\n",
    "                        cursor.execute(sql) \n",
    "\n",
    "                    except:\n",
    "                        sql= \"update %s set summarize='%s'where news_id= '%d'\" % (table_name,title[data],news_id[data])\n",
    "                        cursor.execute(sql) \n",
    "\n",
    "            db.commit()\n",
    "            print(\"요약 완료\")\n",
    "\n",
    "        finally:\n",
    "            db.close\n",
    "make_docu(tabel_name)\n",
    "make_news()\n",
    "save_summ(tabel_name)    \n"
   ]
  },
  {
   "cell_type": "code",
   "execution_count": null,
   "metadata": {},
   "outputs": [],
   "source": []
  }
 ],
 "metadata": {
  "kernelspec": {
   "display_name": "Python 3",
   "language": "python",
   "name": "python3"
  },
  "language_info": {
   "codemirror_mode": {
    "name": "ipython",
    "version": 3
   },
   "file_extension": ".py",
   "mimetype": "text/x-python",
   "name": "python",
   "nbconvert_exporter": "python",
   "pygments_lexer": "ipython3",
   "version": "3.6.6"
  }
 },
 "nbformat": 4,
 "nbformat_minor": 2
}
