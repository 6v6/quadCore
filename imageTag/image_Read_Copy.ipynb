{
 "cells": [
  {
   "cell_type": "code",
   "execution_count": 1,
   "metadata": {},
   "outputs": [
    {
     "name": "stdout",
     "output_type": "stream",
     "text": [
      "전체 파일 수 :  170839\n",
      "카테고리(폴더) 수 :  986\n"
     ]
    }
   ],
   "source": [
    "import os\n",
    "import shutil\n",
    "import glob\n",
    "path= 'C:/Users/DS/dsquadcore/CNN/imagenet/train2017'\n",
    "#file_list = os.listdir(path_dir)        # path 에 존재하는 파일 목록 가져오기\n",
    "#file_list.sort()                        # 파일 이름 순서대로 정렬\n",
    "\n",
    "\n",
    "each_count_list=[] # 각 폴더 내 이미지 개수 \n",
    "data_list=[] #각 폴더 내 이미지 리스트\n",
    "\n",
    "def file_list(path_dir):\n",
    "    file_list = os.listdir(path_dir)        # path 에 존재하는 파일 목록 가져오기\n",
    "    file_list.sort()                        # 파일 이름 순서대로 정렬\n",
    "    \n",
    "    return file_list\n",
    "\n",
    "def count(path_dir):\n",
    "    final_count=0 #전체 이미지 개수\n",
    "    my_File=file_list(path_dir)\n",
    "    for i in my_File:\n",
    "        path_file=os.path.join(path_dir, i)\n",
    "        file_count=len(os.listdir(path_file)) #각 폴더의 파일 개수 세기\n",
    "        final_count=final_count+file_count\n",
    "    return final_count\n",
    "    \n",
    "def each_count(path_dir):\n",
    "    my_File=file_list(path_dir)               \n",
    "    for i in my_File:\n",
    "        path_file=os.path.join(path_dir, i)\n",
    "        each_count_list.append(len(os.listdir(path_file)))#각 폴더의 파일 개수 세기    \n",
    "    return each_count_list\n",
    "\n",
    "def make_data_list(path_dir):\n",
    "    my_File=file_list(path_dir)               \n",
    "    for i in my_File:\n",
    "        path_file=os.path.join(path_dir, i)\n",
    "        data_list.append(os.listdir(path_file))   \n",
    "    return data_list\n",
    "    \n",
    "\n",
    "\n",
    "def main(path_dir,x):\n",
    "    a=0\n",
    "    b=0\n",
    "    my_File=file_list(path_dir)  \n",
    "    for a in range(len(my_File)):\n",
    "        for b in range(x):\n",
    "            new_data=make_data_list(path_dir)\n",
    "            \n",
    "            before_path=path_dir+\"/\"+my_File[a]+\"/\"+new_data[a][b]\n",
    "            new_path=\"D:/copy_data\"+\"/\"+my_File[a]\n",
    "            \n",
    "            if not os.path.isdir(new_path):\n",
    "                os.mkdir(new_path)\n",
    "                shutil.copy2(before_path ,new_path)\n",
    "            else:\n",
    "                shutil.copy2(before_path ,new_path)\n",
    "    print(\"복사가 완료 되었습니다.\")\n",
    "    return os.path.abspath(new_path)\n",
    "        \n",
    "\n",
    "#리스트 나누기\n",
    "#n = x\n",
    "#result = [new_data[i * n:(i + 1) * n] for i in range((len(new_data) + n - 1) // n )] \n",
    "\n",
    "#print(\"전체 파일 수 : \",count(path))\n",
    "#print(\"카테고리(폴더) 수 : \",len(each_count(path)))\n",
    "#print(\"각 카테고리(폴더)의 파일 수 : \",each_count(path))\n",
    "\n",
    "#x=int(input('복사할 이미지 개수를 입력하세요: '))\n",
    "#main(path,x)\n",
    "path2='C:/Users/DS/dsquadcore/CNN/imageTagTrain/reImgData/imgData'\n",
    "print(\"전체 파일 수 : \",count(path2))\n",
    "print(\"카테고리(폴더) 수 : \",len(each_count(path2)))\n",
    "#print(\"각 카테고리(폴더)의 파일 수 : \",each_count(path2))"
   ]
  }
 ],
 "metadata": {
  "kernelspec": {
   "display_name": "Python 3",
   "language": "python",
   "name": "python3"
  },
  "language_info": {
   "codemirror_mode": {
    "name": "ipython",
    "version": 3
   },
   "file_extension": ".py",
   "mimetype": "text/x-python",
   "name": "python",
   "nbconvert_exporter": "python",
   "pygments_lexer": "ipython3",
   "version": "3.6.6"
  }
 },
 "nbformat": 4,
 "nbformat_minor": 2
}
