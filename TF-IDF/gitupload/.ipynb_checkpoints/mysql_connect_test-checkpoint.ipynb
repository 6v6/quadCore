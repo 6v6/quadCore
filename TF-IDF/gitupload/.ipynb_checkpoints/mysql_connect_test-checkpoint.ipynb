{
 "cells": [
  {
   "cell_type": "code",
   "execution_count": 1,
   "metadata": {},
   "outputs": [
    {
     "name": "stdout",
     "output_type": "stream",
     "text": [
      "Database version : 8.0.14 \n",
      "2019-5-1\n"
     ]
    }
   ],
   "source": [
    "import pymysql\n",
    "from datetime import datetime\n",
    "\n",
    "db = pymysql.connect(host='localhost', user='root', password='****' ,db='documents', charset='utf8')\n",
    "# prepare a cursor object using cursor() method\n",
    "\n",
    "cursor = db.cursor()\n",
    "# execute SQL query using execute() method.\n",
    "\n",
    "cursor.execute(\"SELECT VERSION()\")\n",
    "# Fetch a single row using fetchone() method.\n",
    "\n",
    "data = cursor.fetchone()\n",
    "print(\"Database version : %s \" % data)\n",
    "\n",
    "#날짜 \n",
    "now = datetime.now() \n",
    "print ( '%s-%s-%s' % ( now.year, now.month, now.day ) )"
   ]
  }
 ],
 "metadata": {
  "kernelspec": {
   "display_name": "Python 3",
   "language": "python",
   "name": "python3"
  },
  "language_info": {
   "codemirror_mode": {
    "name": "ipython",
    "version": 3
   },
   "file_extension": ".py",
   "mimetype": "text/x-python",
   "name": "python",
   "nbconvert_exporter": "python",
   "pygments_lexer": "ipython3",
   "version": "3.6.6"
  }
 },
 "nbformat": 4,
 "nbformat_minor": 2
}
