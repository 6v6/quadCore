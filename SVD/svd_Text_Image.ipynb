{
 "cells": [
  {
   "cell_type": "code",
   "execution_count": 1,
   "metadata": {
    "scrolled": true
   },
   "outputs": [
    {
     "name": "stdout",
     "output_type": "stream",
     "text": [
      "Database version : 5.7.28-0ubuntu0.18.04.4 \n",
      "df.shape=(1274, 5)\n",
      "userTag_id        int64\n",
      "user_id          object\n",
      "tag_id           object\n",
      "userTag_count     int64\n",
      "time             object\n",
      "dtype: object\n",
      "   userTag_id user_id tag_id  userTag_count              time\n",
      "0           1       2  52076              2  2019-12-30 16:47\n",
      "1           2       2  50903              2  2019-12-30 16:47\n",
      "2           3       2  50375              2  2019-12-30 16:47\n",
      "3           4       2  20371              2  2019-12-30 16:47\n",
      "4           5       2  52071              2  2019-12-30 16:47\n",
      "         userTag_id user_id tag_id  userTag_count              time\n",
      "count   1274.000000    1274   1274    1274.000000              1274\n",
      "unique          NaN       5    870            NaN                 8\n",
      "top             NaN       3  30817            NaN  2019-12-30 16:52\n",
      "freq            NaN     294      4            NaN               296\n",
      "mean     637.500000     NaN    NaN       1.191523               NaN\n",
      "std      367.916431     NaN    NaN       0.540045               NaN\n",
      "min        1.000000     NaN    NaN       1.000000               NaN\n",
      "25%      319.250000     NaN    NaN       1.000000               NaN\n",
      "50%      637.500000     NaN    NaN       1.000000               NaN\n",
      "75%      955.750000     NaN    NaN       1.000000               NaN\n",
      "max     1274.000000     NaN    NaN       5.000000               NaN\n",
      "Database version : 5.7.28-0ubuntu0.18.04.4 \n",
      "RMSE: 0.1366\n",
      "2 11363 2.1286987958659473\n",
      "2 52954 2.0135410579589013\n",
      "2 52952 1.9840216593176274\n",
      "2 51852 1.7938240163269192\n",
      "2 53471 1.7591185338169346\n",
      "4 10151 1.5028568886264337\n",
      "4 275 1.4855885452848638\n",
      "4 20688 1.45869265044551\n",
      "4 311 1.428475429165644\n",
      "4 53439 1.4246946845045256\n",
      "3 11363 1.8848663389855913\n",
      "3 52954 1.8200952397240897\n",
      "3 52952 1.6031924288088293\n",
      "3 51852 1.584580992060765\n",
      "3 53210 1.5237600891608505\n",
      "1 10303 1.845038811944784\n",
      "1 31169 1.6180423290883232\n",
      "1 10647 1.5241630708472624\n",
      "1 52042 1.5158308576766757\n",
      "1 52044 1.513707345407235\n",
      "5 31169 1.6397158460345804\n",
      "5 52044 1.6026050761673454\n",
      "5 51887 1.5444080538146059\n",
      "5 51813 1.5388669910210968\n",
      "5 10308 1.5081865637875786\n",
      "완료\n"
     ]
    }
   ],
   "source": [
    "from collections import defaultdict\n",
    "from surprise import SVD\n",
    "from surprise import Reader, Dataset\n",
    "import pandas as pd\n",
    "from surprise.model_selection import KFold\n",
    "from surprise import dump\n",
    "from surprise import accuracy\n",
    "from surprise.model_selection import cross_validate\n",
    "import pymysql\n",
    "import csv\n",
    "from datetime import datetime #,timedelta\n",
    "import time\n",
    "import surprise\n",
    "\n",
    "##db\n",
    "db = pymysql.connect(host='###', user='###', password='###' ,db='###', charset='###')\n",
    "\n",
    "# prepare a cursor object using cursor() method\n",
    "cursor = db.cursor()\n",
    "# execute SQL query using execute() method.\n",
    "cursor.execute(\"SELECT VERSION()\")\n",
    "# Fetch a single row using fetchone() method.\n",
    "data = cursor.fetchone()\n",
    "print(\"Database version : %s \" % data)\n",
    "\n",
    "\n",
    "def get_top_n(predictions, n=10):\n",
    "\n",
    "    # First map the predictions to each user.\n",
    "    top_n = defaultdict(list)\n",
    "    for uid, iid, true_r, est, _ in predictions:\n",
    "        top_n[uid].append((iid, est))\n",
    "    \n",
    "\n",
    "    # Then sort the predictions for each user and retrieve the k highest ones.\n",
    "    for uid, user_ratings in top_n.items():\n",
    "        user_ratings.sort(key=lambda x: x[1], reverse=True)\n",
    "        top_n[uid] = user_ratings[:n]\n",
    "\n",
    "    return top_n\n",
    "\n",
    "train_data= pd.read_csv(r\"./usertag.csv\") #텍스트 태그 이미지 태그..\n",
    "df=pd.DataFrame(train_data)\n",
    "\n",
    "\n",
    "df['tag_id']= df['tag_id'].astype(str)\n",
    "df['user_id']= df['user_id'].astype(str)\n",
    "\n",
    "print(\"df.shape={}\".format(df.shape))\n",
    "print(df.dtypes)\n",
    "print(df.head())\n",
    "print(df.describe(include='all'))\n",
    "\n",
    "\n",
    "#reader class using only the rating parameter\n",
    "reader= Reader(rating_scale=(0.0, 5.0))\n",
    "\n",
    "#arranging dataframe\n",
    "data= Dataset.load_from_df(df[['user_id', 'tag_id', 'userTag_count']], reader)\n",
    "\n",
    "#build full trainset and use cross validation for evaluation\n",
    "trainset= data.build_full_trainset()\n",
    "\n",
    "algo = SVD()\n",
    "algo.fit(trainset)\n",
    "\n",
    "##db\n",
    "db = pymysql.connect(host='###', user='###', password='###' ,db='###', charset='###')\n",
    "\n",
    "# prepare a cursor object using cursor() method\n",
    "cursor = db.cursor()\n",
    "# execute SQL query using execute() method.\n",
    "cursor.execute(\"SELECT VERSION()\")\n",
    "# Fetch a single row using fetchone() method.\n",
    "data = cursor.fetchone()\n",
    "print(\"Database version : %s \" % data)\n",
    "\n",
    "# Than predict ratings for all pairs (u, i) that are NOT in the training set.\n",
    "testset = trainset.build_anti_testset()\n",
    "predictions = algo.test(testset)\n",
    "accuracy.rmse(predictions)\n",
    "top_n = get_top_n(predictions, n=5)\n",
    "\n",
    "# Print the recommended items for each user\n",
    "for uid, user_ratings in top_n.items():\n",
    "    #sql= \"UPDATE `cftable SET user_id='%s' cf_id='%s' rate='%s'\" % (uid,uid,user_ratings)\n",
    "    for (iid, rating) in user_ratings:\n",
    "        print(uid,iid,rating)\n",
    "        #sql= \"UPDATE `cftable SET user_id='%s' cf_id='%s' rate='%s'\" % (uid,iid,rating)\n",
    "        sql= \"INSERT INTO cftable (user_id,cf_id,rate) VALUES (%s,%s,%s)\" \n",
    "        cursor.execute(sql, (int(uid),int(iid),float(rating)))\n",
    "        db.commit()\n",
    "        \n",
    "db.close()\n",
    "print(\"완료\")"
   ]
  },
  {
   "cell_type": "code",
   "execution_count": 2,
   "metadata": {},
   "outputs": [
    {
     "name": "stdout",
     "output_type": "stream",
     "text": [
      "user: 1          item: 10303      r_ui = 0.00   est = 1.85   {'was_impossible': False}\n",
      "user: 2          item: 11363      r_ui = 0.00   est = 2.13   {'was_impossible': False}\n",
      "user: 3          item: 52954      r_ui = 0.00   est = 1.82   {'was_impossible': False}\n",
      "user: 4          item: 10151      r_ui = 0.00   est = 1.50   {'was_impossible': False}\n",
      "user: 5          item: 31169      r_ui = 0.00   est = 1.64   {'was_impossible': False}\n"
     ]
    }
   ],
   "source": [
    "#pred = algo.predict(\"1\", \"10303\", r_ui=0, verbose=True)\n",
    "#pred = algo.predict(\"2\", \"11363\", r_ui=0, verbose=True)\n",
    "#pred = algo.predict(\"3\", \"52954\", r_ui=0, verbose=True)\n",
    "#pred = algo.predict(\"4\", \"10151\", r_ui=0, verbose=True)\n",
    "#pred = algo.predict(\"5\", \"31169\", r_ui=0, verbose=True)"
   ]
  },
  {
   "cell_type": "code",
   "execution_count": 3,
   "metadata": {},
   "outputs": [
    {
     "name": "stdout",
     "output_type": "stream",
     "text": [
      "user: 1          item: 10303      r_ui = 0.00   est = 1.85   {'was_impossible': False}\n",
      "user: 2          item: 50458      r_ui = 4.00   est = 2.10   {'was_impossible': False}\n",
      "user: 3          item: 52954      r_ui = 0.00   est = 1.82   {'was_impossible': False}\n",
      "user: 4          item: 50458      r_ui = 3.00   est = 1.71   {'was_impossible': False}\n",
      "user: 5          item: 31169      r_ui = 0.00   est = 1.64   {'was_impossible': False}\n"
     ]
    }
   ],
   "source": [
    "#pred = algo.predict(\"1\", \"10303\", r_ui=0, verbose=True)\n",
    "#pred = algo.predict(\"2\", \"50458\", r_ui=4, verbose=True)\n",
    "#pred = algo.predict(\"3\", \"52954\", r_ui=0, verbose=True)\n",
    "#pred = algo.predict(\"4\", \"50458\", r_ui=3, verbose=True)\n",
    "#pred = algo.predict(\"5\", \"31169\", r_ui=0, verbose=True)"
   ]
  },
  {
   "cell_type": "code",
   "execution_count": 4,
   "metadata": {},
   "outputs": [
    {
     "data": {
      "text/plain": [
       "count    2.000000\n",
       "mean     3.500000\n",
       "std      0.707107\n",
       "min      3.000000\n",
       "25%      3.250000\n",
       "50%      3.500000\n",
       "75%      3.750000\n",
       "max      4.000000\n",
       "Name: userTag_count, dtype: float64"
      ]
     },
     "execution_count": 4,
     "metadata": {},
     "output_type": "execute_result"
    }
   ],
   "source": [
    "#특정아이템에 대한 유저의 응답을 통해 예측이 잘 되었는지 확인\n",
    "#import matplotlib.pyplot as plt\n",
    "#%matplotlib notebook\n",
    "#df.loc[df['tag_id'] == \"50458\"]['userTag_count'].describe()\n",
    "#df.loc[df['tag_id'] == \"50458\"]['userTag_count'].hist()\n",
    "#plt.xlabel('tag')\n",
    "#plt.ylabel('Number of ratings')\n",
    "#plt.title('Number of ratings about tag')\n",
    "#plt.show()"
   ]
  },
  {
   "cell_type": "code",
   "execution_count": 5,
   "metadata": {},
   "outputs": [
    {
     "name": "stdout",
     "output_type": "stream",
     "text": [
      "user: 1          item: 52969      r_ui = 3.00   est = 1.63   {'was_impossible': False}\n",
      "user: 4          item: 52969      r_ui = 1.00   est = 1.23   {'was_impossible': False}\n",
      "user: 5          item: 52969      r_ui = 1.00   est = 1.30   {'was_impossible': False}\n"
     ]
    }
   ],
   "source": [
    "#pred = algo.predict(\"1\", \"52969\", r_ui=3, verbose=True)\n",
    "#pred = algo.predict(\"4\", \"52969\", r_ui=1, verbose=True)\n",
    "#pred = algo.predict(\"5\", \"52969\", r_ui=1, verbose=True)"
   ]
  },
  {
   "cell_type": "code",
   "execution_count": 6,
   "metadata": {},
   "outputs": [
    {
     "data": {
      "text/html": [
       "<div>\n",
       "<style scoped>\n",
       "    .dataframe tbody tr th:only-of-type {\n",
       "        vertical-align: middle;\n",
       "    }\n",
       "\n",
       "    .dataframe tbody tr th {\n",
       "        vertical-align: top;\n",
       "    }\n",
       "\n",
       "    .dataframe thead th {\n",
       "        text-align: right;\n",
       "    }\n",
       "</style>\n",
       "<table border=\"1\" class=\"dataframe\">\n",
       "  <thead>\n",
       "    <tr style=\"text-align: right;\">\n",
       "      <th></th>\n",
       "      <th>user</th>\n",
       "      <th>item</th>\n",
       "      <th>Actual rating</th>\n",
       "      <th>Computed rating</th>\n",
       "    </tr>\n",
       "  </thead>\n",
       "  <tbody>\n",
       "    <tr>\n",
       "      <th>0</th>\n",
       "      <td>1</td>\n",
       "      <td>10303</td>\n",
       "      <td>0</td>\n",
       "      <td>1.78</td>\n",
       "    </tr>\n",
       "    <tr>\n",
       "      <th>1</th>\n",
       "      <td>2</td>\n",
       "      <td>50458</td>\n",
       "      <td>4</td>\n",
       "      <td>1.99</td>\n",
       "    </tr>\n",
       "    <tr>\n",
       "      <th>2</th>\n",
       "      <td>3</td>\n",
       "      <td>52954</td>\n",
       "      <td>0</td>\n",
       "      <td>1.89</td>\n",
       "    </tr>\n",
       "    <tr>\n",
       "      <th>3</th>\n",
       "      <td>4</td>\n",
       "      <td>50458</td>\n",
       "      <td>3</td>\n",
       "      <td>1.69</td>\n",
       "    </tr>\n",
       "    <tr>\n",
       "      <th>4</th>\n",
       "      <td>5</td>\n",
       "      <td>31169</td>\n",
       "      <td>0</td>\n",
       "      <td>1.69</td>\n",
       "    </tr>\n",
       "  </tbody>\n",
       "</table>\n",
       "</div>"
      ],
      "text/plain": [
       "   user   item  Actual rating  Computed rating\n",
       "0     1  10303              0             1.78\n",
       "1     2  50458              4             1.99\n",
       "2     3  52954              0             1.89\n",
       "3     4  50458              3             1.69\n",
       "4     5  31169              0             1.69"
      ]
     },
     "execution_count": 6,
     "metadata": {},
     "output_type": "execute_result"
    }
   ],
   "source": [
    "#result = pd.DataFrame([\n",
    "#    [1, '10303', 0,1.78],\n",
    "#    [2, '50458', 4,1.99],\n",
    "#    [3, '52954', 0,1.89],\n",
    "#    [4, '50458', 3,1.69],\n",
    "#    [5, '31169', 0,1.69]],\n",
    "#    columns = ['user', 'item', 'Actual rating','Computed rating'])\n",
    "\n",
    "#result"
   ]
  },
  {
   "cell_type": "code",
   "execution_count": 15,
   "metadata": {},
   "outputs": [
    {
     "data": {
      "text/html": [
       "<div>\n",
       "<style scoped>\n",
       "    .dataframe tbody tr th:only-of-type {\n",
       "        vertical-align: middle;\n",
       "    }\n",
       "\n",
       "    .dataframe tbody tr th {\n",
       "        vertical-align: top;\n",
       "    }\n",
       "\n",
       "    .dataframe thead th {\n",
       "        text-align: right;\n",
       "    }\n",
       "</style>\n",
       "<table border=\"1\" class=\"dataframe\">\n",
       "  <thead>\n",
       "    <tr style=\"text-align: right;\">\n",
       "      <th></th>\n",
       "      <th></th>\n",
       "      <th>Text</th>\n",
       "      <th>Text &amp; Image</th>\n",
       "    </tr>\n",
       "  </thead>\n",
       "  <tbody>\n",
       "    <tr>\n",
       "      <th>0</th>\n",
       "      <td>RMSE</td>\n",
       "      <td>0.1743</td>\n",
       "      <td>0.1344</td>\n",
       "    </tr>\n",
       "  </tbody>\n",
       "</table>\n",
       "</div>"
      ],
      "text/plain": [
       "           Text Text & Image\n",
       "0  RMSE  0.1743       0.1344"
      ]
     },
     "execution_count": 15,
     "metadata": {},
     "output_type": "execute_result"
    }
   ],
   "source": [
    "#RMSE: 0.1743\n",
    "#RMSE: 0.1344\n",
    "#rmse = pd.DataFrame({' ': ['RMSE'], \n",
    "#        'Text': ['0.1743'], \n",
    "#        'Text & Image': ['0.1344']})\n",
    "#rmse"
   ]
  }
 ],
 "metadata": {
  "kernelspec": {
   "display_name": "Python 3",
   "language": "python",
   "name": "python3"
  },
  "language_info": {
   "codemirror_mode": {
    "name": "ipython",
    "version": 3
   },
   "file_extension": ".py",
   "mimetype": "text/x-python",
   "name": "python",
   "nbconvert_exporter": "python",
   "pygments_lexer": "ipython3",
   "version": "3.6.6"
  }
 },
 "nbformat": 4,
 "nbformat_minor": 2
}
