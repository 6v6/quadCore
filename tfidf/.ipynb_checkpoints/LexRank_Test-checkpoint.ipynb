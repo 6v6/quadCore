{
 "cells": [
  {
   "cell_type": "code",
   "execution_count": 1,
   "metadata": {
    "scrolled": true
   },
   "outputs": [
    {
     "name": "stderr",
     "output_type": "stream",
     "text": [
      "C:\\Users\\BOMI\\Anaconda3\\lib\\site-packages\\gensim\\utils.py:1212: UserWarning: detected Windows; aliasing chunkize to chunkize_serial\n",
      "  warnings.warn(\"detected Windows; aliasing chunkize to chunkize_serial\")\n",
      "C:\\Users\\BOMI\\Anaconda3\\lib\\site-packages\\konlpy\\tag\\_okt.py:16: UserWarning: \"Twitter\" has changed to \"Okt\" since KoNLPy v0.4.5.\n",
      "  warn('\"Twitter\" has changed to \"Okt\" since KoNLPy v0.4.5.')\n"
     ]
    },
    {
     "name": "stdout",
     "output_type": "stream",
     "text": [
      "['앵커 일제가 쌀과 소금 면화를 수탈해간 통로였던 목포에는 당시에 지어진 일본식 건물들이 지금도 많이 남아있습니다', '제가 서 있는 이 목포 원도심 거리에서는 일제 강점기의 흔적이 그대로 남아있는 건물을 쉽게 찾아볼 수 있습니다', '일본 아이들만을 위한 학교 강당과 옛모습 그대로인 일본식 정원 1938년 일본이 처음 지은 뒤 조선내화주식회사가 사용했던 벽돌 공장도 그 자리에 남아 과거를 이야기합니다']\n",
      "[['앵커 일제가 쌀과 소금 면화를 수탈해간 통로였던 목포에는 당시에 지어진 일본식 건물들이 지금도 많이 남아있습니다', '제가 서 있는 이 목포 원도심 거리에서는 일제 강점기의 흔적이 그대로 남아있는 건물을 쉽게 찾아볼 수 있습니다', '일본 아이들만을 위한 학교 강당과 옛모습 그대로인 일본식 정원 1938년 일본이 처음 지은 뒤 조선내화주식회사가 사용했던 벽돌 공장도 그 자리에 남아 과거를 이야기합니다']]\n"
     ]
    }
   ],
   "source": [
    "from __future__ import print_function\n",
    "from lexrankr import LexRank\n",
    "import os\n",
    "import csv#csv\n",
    "import pandas as pd#표\n",
    "import itertools\n",
    "#csv파일위치\n",
    "os.chdir(\"C:\\\\Users\\\\BOMI\\\\dsquadcore\\\\\")\n",
    "#기사 csv 오픈\n",
    "file = open('tfidf_Test.csv', 'r', encoding='UTF-8')#euc-kr\n",
    "line = csv.reader(file)\n",
    "lexrank = LexRank()\n",
    "\n",
    "news=[]\n",
    "num={}\n",
    "rating={}\n",
    "#오픈한 csv파일 한 라인씩 읽어 테스트(테스트 파일은 49개의 기사)\n",
    "b=0\n",
    "for i in line:\n",
    "    if(b<1):\n",
    "        #print(i[1])\n",
    "        lexrank.summarize(i[1])\n",
    "        summaries = lexrank.probe(3)  # 3:문장갯수 (값이 '<1' 시) 요약비율\n",
    "        summaries2 = lexrank.probe(.1)\n",
    "        news.append(summaries)\n",
    "        num[b]=news[b]\n",
    "        rating[b]=summaries2\n",
    "        b+=1\n",
    "    \n",
    "#a=0\n",
    "#for summary in summaries:\n",
    "#    print(a,summary)\n",
    "#    a+=1\n",
    "#print(\"=====================비교======================\")\n",
    "#for summary2 in summaries2:\n",
    "#    print(summary2)\n",
    "\n",
    "list_of_lists = news\n",
    "print(list(itertools.chain(*list_of_lists)))\n",
    "print(news)\n",
    "#print(num)    \n",
    "#기사마다 pd를 이용해 값 비교하기 원하는 기사의 리스트번호를 넣어서 테스트\n",
    "data = {'요약갯수': num[0], \n",
    "        '요약비율':rating[0], \n",
    "        } \n",
    "#df = pd.DataFrame(data)\n",
    "#df\n",
    "#df.sort_values(by=['tf-idf'], axis=0, ascending=False).head(6)#상위5개"
   ]
  }
 ],
 "metadata": {
  "kernelspec": {
   "display_name": "Python 3",
   "language": "python",
   "name": "python3"
  },
  "language_info": {
   "codemirror_mode": {
    "name": "ipython",
    "version": 3
   },
   "file_extension": ".py",
   "mimetype": "text/x-python",
   "name": "python",
   "nbconvert_exporter": "python",
   "pygments_lexer": "ipython3",
   "version": "3.6.6"
  }
 },
 "nbformat": 4,
 "nbformat_minor": 2
}
